{
 "cells": [
  {
   "cell_type": "code",
   "execution_count": null,
   "metadata": {},
   "outputs": [],
   "source": [
    "import ipywidgets as widgets\n",
    "start_date = widgets.DatePicker(\n",
    "    description='Select a start date',\n",
    "    disabled=False,\n",
    "    style={'description_width': 'initial'}\n",
    ")\n",
    "end_date = widgets.DatePicker(\n",
    "    description='Select a end date',\n",
    "    disabled=False,\n",
    "    style={'description_width': 'initial'}\n",
    ")\n",
    "\n",
    "display(start_date)\n",
    "display(end_date)"
   ]
  },
  {
   "cell_type": "code",
   "execution_count": null,
   "metadata": {},
   "outputs": [],
   "source": [
    "import pandas as pd\n",
    "import os\n",
    "import matplotlib.pyplot as plt\n",
    "import plotly.express as px\n",
    "URL = \"https://earthquake.usgs.gov/fdsnws/event/1/query.csv?starttime=\" + str(start_date.value) + \"%2000:00:00&endtime=\" + str(end_date.value) + \"%2023:59:59&maxlatitude=50&minlatitude=24.6&maxlongitude=-65&minlongitude=-125&minmagnitude=2.5&orderby=time\"\n",
    "df = pd.read_csv(URL)\n",
    "\n",
    "fig = px.scatter_mapbox(df, lat=\"latitude\", lon=\"longitude\", color=\"mag\",hover_name=\"place\", hover_data=[\"nst\", \"mag\"],\n",
    "                        color_continuous_scale=px.colors.cyclical.IceFire, zoom=3, height=600,\n",
    "                        title=\"Earthquakes Across the United States\",\n",
    "                        template='plotly_dark')\n",
    "fig.update_layout(mapbox_style=\"open-street-map\")\n",
    "fig.update_layout(margin={\"r\":0,\"t\":0,\"l\":0,\"b\":0})\n",
    "fig.show()\n",
    "\n",
    "\n",
    "fig = px.scatter_3d(\n",
    "    df,\n",
    "    title='Earthquake Depth, Magnitude, and Magnitude Error',\n",
    "    x=\"mag\",\n",
    "    y=\"depth\",\n",
    "    z=\"depthError\",\n",
    "    color=\"magError\",\n",
    "    template='plotly_dark',\n",
    "    height=600,\n",
    ")\n",
    "fig.update_layout(showlegend=False)\n",
    "fig.show()\n",
    "\n",
    "\n",
    "fig = px.histogram(df[df['nst']<=100], x=\"nst\",template='plotly_dark',title='Number of Sensors Used per Earthquake',)\n",
    "fig.show()\n",
    "\n",
    "def map_robinson(df, color, animation_frame):\n",
    "# country = px.data.gapminder()\n",
    "    fig = px.scatter_geo(df, lat=\"latitude\", lon=\"longitude\", \n",
    "                         hover_name=\"place\", color = color,\n",
    "                         animation_frame = animation_frame,\n",
    "                         projection=\"natural earth\",\n",
    "                         height = 900,\n",
    "                         template='plotly_dark',\n",
    "                         scope='north america',\n",
    "                         title=\"Location and Depth of Earthquakes across time, between \" + str(start_date.value) + \" and \" + str(end_date.value) \n",
    "                         )                     \n",
    "    fig.show()\n",
    "\n",
    "# Converting time column to datetime obj and splitting it up into year, month and day to potentially use it as filters later.\n",
    "df['time'] = pd.to_datetime(df['time'])\n",
    "df['year'] = pd.DatetimeIndex(df['time']).year\n",
    "df['month'] = pd.DatetimeIndex(df['time']).month\n",
    "df['day'] = pd.DatetimeIndex(df['time']).day\n",
    "\n",
    "#Splitting column based on comma to see if it actually contains only state names that can also be used later\n",
    "df['location_after_comma'] = df['place'].str.rsplit(',').str[-1]\n",
    "\n",
    "\n",
    "map_robinson(df, \"depth\", \"day\")"
   ]
  }
 ],
 "metadata": {
  "kernelspec": {
   "display_name": "Python 3.9.13 ('venv': venv)",
   "language": "python",
   "name": "python3"
  },
  "language_info": {
   "codemirror_mode": {
    "name": "ipython",
    "version": 3
   },
   "file_extension": ".py",
   "mimetype": "text/x-python",
   "name": "python",
   "nbconvert_exporter": "python",
   "pygments_lexer": "ipython3",
   "version": "3.9.13"
  },
  "orig_nbformat": 4,
  "vscode": {
   "interpreter": {
    "hash": "94ce52148eb8405b4bced4b98010fe22eb2edbfedb0d1b366bd9cc755b48ffeb"
   }
  }
 },
 "nbformat": 4,
 "nbformat_minor": 2
}
