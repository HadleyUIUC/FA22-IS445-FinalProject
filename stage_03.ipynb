{
 "cells": [
  {
   "cell_type": "code",
   "execution_count": null,
   "metadata": {},
   "outputs": [],
   "source": [
    "import ipywidgets as widgets\n",
    "start_date = widgets.DatePicker(\n",
    "    description='Select a start date',\n",
    "    disabled=False,\n",
    "    style={'description_width': 'initial'}\n",
    ")\n",
    "end_date = widgets.DatePicker(\n",
    "    description='Select a end date',\n",
    "    disabled=False,\n",
    "    style={'description_width': 'initial'}\n",
    ")\n",
    "\n",
    "display(start_date)\n",
    "display(end_date)"
   ]
  },
  {
   "cell_type": "code",
   "execution_count": null,
   "metadata": {},
   "outputs": [],
   "source": [
    "import pandas as pd\n",
    "import os\n",
    "import matplotlib.pyplot as plt\n",
    "import plotly.express as px\n",
    "URL = \"https://earthquake.usgs.gov/fdsnws/event/1/query.csv?starttime=\" + str(start_date.value) + \"%2000:00:00&endtime=\" + str(end_date.value) + \"%2023:59:59&maxlatitude=50&minlatitude=24.6&maxlongitude=-65&minlongitude=-125&minmagnitude=2.5&orderby=time\"\n",
    "df = pd.read_csv(URL)\n",
    "\n",
    "fig = px.scatter_mapbox(df, lat=\"latitude\", lon=\"longitude\", color=\"mag\",hover_name=\"place\", hover_data=[\"nst\", \"mag\"],\n",
    "                        color_continuous_scale=px.colors.cyclical.IceFire, zoom=3, height=600,\n",
    "                        title=\"Earthquakes Across the United States\")\n",
    "fig.update_layout(mapbox_style=\"open-street-map\")\n",
    "fig.update_layout(margin={\"r\":0,\"t\":0,\"l\":0,\"b\":0})\n",
    "fig.show()\n",
    "\n",
    "\n",
    "fig = px.scatter_3d(\n",
    "    df,\n",
    "    title='Earthquake Depth, Magnitude, and Magnitude Error',\n",
    "    x=\"mag\",\n",
    "    y=\"depth\",\n",
    "    z=\"depthError\",\n",
    "    color=\"magError\",\n",
    "    template='plotly_dark',\n",
    "    height=600,\n",
    ")\n",
    "fig.update_layout(showlegend=False)\n",
    "fig.show()"
   ]
  }
 ],
 "metadata": {
  "kernelspec": {
   "display_name": "Python 3.9.13 ('venv': venv)",
   "language": "python",
   "name": "python3"
  },
  "language_info": {
   "codemirror_mode": {
    "name": "ipython",
    "version": 3
   },
   "file_extension": ".py",
   "mimetype": "text/x-python",
   "name": "python",
   "nbconvert_exporter": "python",
   "pygments_lexer": "ipython3",
   "version": "3.9.13"
  },
  "orig_nbformat": 4,
  "vscode": {
   "interpreter": {
    "hash": "94ce52148eb8405b4bced4b98010fe22eb2edbfedb0d1b366bd9cc755b48ffeb"
   }
  }
 },
 "nbformat": 4,
 "nbformat_minor": 2
}
