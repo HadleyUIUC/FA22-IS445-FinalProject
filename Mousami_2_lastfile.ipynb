{
 "cells": [
  {
   "cell_type": "code",
   "execution_count": 1,
   "metadata": {},
   "outputs": [],
   "source": [
    "import pandas as pd\n",
    "import os\n",
    "import matplotlib.pyplot as plt\n",
    "import plotly.express as px"
   ]
  },
  {
   "cell_type": "code",
   "execution_count": 2,
   "metadata": {},
   "outputs": [],
   "source": [
    "%matplotlib inline"
   ]
  },
  {
   "cell_type": "code",
   "execution_count": 5,
   "metadata": {},
   "outputs": [],
   "source": [
    "df = pd.read_csv(\"query.csv\", parse_dates=['time'])"
   ]
  },
  {
   "cell_type": "code",
   "execution_count": 6,
   "metadata": {},
   "outputs": [],
   "source": [
    "#Adding a new column to the dataframe 1 which records just the date of the observation\n",
    "df['date'] = df['time'].dt.date"
   ]
  },
  {
   "cell_type": "code",
   "execution_count": 7,
   "metadata": {},
   "outputs": [
    {
     "name": "stderr",
     "output_type": "stream",
     "text": [
      "C:\\Users\\Smous\\anaconda3\\lib\\site-packages\\pandas\\core\\ops\\array_ops.py:73: FutureWarning: Comparison of Timestamp with datetime.date is deprecated in order to match the standard library behavior. In a future version these will be considered non-comparable. Use 'ts == pd.Timestamp(date)' or 'ts.date() == date' instead.\n",
      "  result = libops.scalar_compare(x.ravel(), y, op)\n",
      "C:\\Users\\Smous\\AppData\\Local\\Temp\\ipykernel_16688\\1645631500.py:6: SettingWithCopyWarning: \n",
      "A value is trying to be set on a copy of a slice from a DataFrame.\n",
      "Try using .loc[row_indexer,col_indexer] = value instead\n",
      "\n",
      "See the caveats in the documentation: https://pandas.pydata.org/pandas-docs/stable/user_guide/indexing.html#returning-a-view-versus-a-copy\n",
      "  usgs_1['date'] = pd.to_datetime(df['date'])\n"
     ]
    }
   ],
   "source": [
    "#Adding a new column to the dataframe 1 which records just the date of the observation\n",
    "df['date'] = df['time'].dt.date\n",
    "#Filtering date after 22nd Nov for the visualization by creating a new dataframe (2)\n",
    "usgs_1 = df[df['date'] >= pd.Timestamp('2022-11-22')]\n",
    "#Parsing the dataframe 2's date\n",
    "usgs_1['date'] = pd.to_datetime(df['date'])"
   ]
  },
  {
   "cell_type": "code",
   "execution_count": 8,
   "metadata": {},
   "outputs": [
    {
     "name": "stderr",
     "output_type": "stream",
     "text": [
      "C:\\Users\\Smous\\AppData\\Local\\Temp\\ipykernel_16688\\3643801287.py:2: SettingWithCopyWarning: \n",
      "A value is trying to be set on a copy of a slice from a DataFrame.\n",
      "Try using .loc[row_indexer,col_indexer] = value instead\n",
      "\n",
      "See the caveats in the documentation: https://pandas.pydata.org/pandas-docs/stable/user_guide/indexing.html#returning-a-view-versus-a-copy\n",
      "  usgs_1['day_no'] = usgs_1['date'].dt.day\n"
     ]
    }
   ],
   "source": [
    "#Extracting the day information and adding a new column \n",
    "usgs_1['day_no'] = usgs_1['date'].dt.day"
   ]
  },
  {
   "cell_type": "code",
   "execution_count": 228,
   "metadata": {},
   "outputs": [
    {
     "data": {
      "image/png": "[encoded data removed]",
      "text/plain": [
       "<Figure size 432x288 with 1 Axes>"
      ]
     },
     "metadata": {
      "needs_background": "light"
     },
     "output_type": "display_data"
    }
   ],
   "source": [
    "#Taking a look at our data through summary statistics. \n",
    "#The boxplot shows us that the magnitude error recorded varies under 0.3.\n",
    "#The magnitude error is small, and shows that most of the error is minor. This shows that the magnitude measuring procedure is reliable\n",
    "#Boxplot for errors\n",
    "usgs_1 = usgs_1.dropna(subset=['magError', 'horizontalError','depthError'])\n",
    "fig, ax = plt.subplots()\n",
    "ax.boxplot(usgs_1['magError'], vert = False)\n",
    "plt.title(\"Magnitude Error Distribution\")\n",
    "plt.show()"
   ]
  },
  {
   "cell_type": "code",
   "execution_count": 227,
   "metadata": {},
   "outputs": [
    {
     "data": {
      "image/png": "[encoded data removed]",
      "text/plain": [
       "<Figure size 432x288 with 1 Axes>"
      ]
     },
     "metadata": {
      "needs_background": "light"
     },
     "output_type": "display_data"
    }
   ],
   "source": [
    "#The horizontal error is the error in the location while depth error is the vertical error in the actual depth recorded.\n",
    "#The boxplot shows that depth has more spread, with many outliers. The vertical depth seems to be difficult to estimate\n",
    "#The horizontal error has as many outliers but the spread is small. \n",
    "error = [usgs_1['horizontalError'],usgs_1['depthError']]\n",
    "fig, ax = plt.subplots()\n",
    "ax.boxplot(error, vert = False)\n",
    "plt.title(\"Horizontal and Depth Error\")\n",
    "ax.set_yticklabels(['Horizontal Error','Depth Error'])\n",
    "plt.show()"
   ]
  },
  {
   "cell_type": "code",
   "execution_count": null,
   "metadata": {},
   "outputs": [],
   "source": []
  }
 ],
 "metadata": {
  "kernelspec": {
   "display_name": "Python 3 (ipykernel)",
   "language": "python",
   "name": "python3"
  },
  "language_info": {
   "codemirror_mode": {
    "name": "ipython",
    "version": 3
   },
   "file_extension": ".py",
   "mimetype": "text/x-python",
   "name": "python",
   "nbconvert_exporter": "python",
   "pygments_lexer": "ipython3",
   "version": "3.9.12"
  }
 },
 "nbformat": 4,
 "nbformat_minor": 4
}
