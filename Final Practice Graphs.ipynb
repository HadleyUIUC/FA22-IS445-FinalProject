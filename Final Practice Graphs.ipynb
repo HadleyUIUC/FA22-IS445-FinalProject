{
 "cells": [
  {
   "cell_type": "code",
   "execution_count": 38,
   "metadata": {},
   "outputs": [],
   "source": [
    "import matplotlib.pyplot as plt\n",
    "import numpy as np\n",
    "import pandas as pd\n",
    "%matplotlib inline"
   ]
  },
  {
   "cell_type": "code",
   "execution_count": 39,
   "metadata": {},
   "outputs": [
    {
     "data": {
      "text/html": [
       "<div>\n",
       "<style scoped>\n",
       "    .dataframe tbody tr th:only-of-type {\n",
       "        vertical-align: middle;\n",
       "    }\n",
       "\n",
       "    .dataframe tbody tr th {\n",
       "        vertical-align: top;\n",
       "    }\n",
       "\n",
       "    .dataframe thead th {\n",
       "        text-align: right;\n",
       "    }\n",
       "</style>\n",
       "<table border=\"1\" class=\"dataframe\">\n",
       "  <thead>\n",
       "    <tr style=\"text-align: right;\">\n",
       "      <th></th>\n",
       "      <th>time</th>\n",
       "      <th>latitude</th>\n",
       "      <th>longitude</th>\n",
       "      <th>depth</th>\n",
       "      <th>mag</th>\n",
       "      <th>magType</th>\n",
       "      <th>nst</th>\n",
       "      <th>gap</th>\n",
       "      <th>dmin</th>\n",
       "      <th>rms</th>\n",
       "      <th>...</th>\n",
       "      <th>updated</th>\n",
       "      <th>place</th>\n",
       "      <th>type</th>\n",
       "      <th>horizontalError</th>\n",
       "      <th>depthError</th>\n",
       "      <th>magError</th>\n",
       "      <th>magNst</th>\n",
       "      <th>status</th>\n",
       "      <th>locationSource</th>\n",
       "      <th>magSource</th>\n",
       "    </tr>\n",
       "  </thead>\n",
       "  <tbody>\n",
       "    <tr>\n",
       "      <th>0</th>\n",
       "      <td>2022-12-01T01:54:56.710Z</td>\n",
       "      <td>38.754501</td>\n",
       "      <td>-122.441666</td>\n",
       "      <td>4.08</td>\n",
       "      <td>1.60</td>\n",
       "      <td>md</td>\n",
       "      <td>5</td>\n",
       "      <td>162.0</td>\n",
       "      <td>NaN</td>\n",
       "      <td>0.03</td>\n",
       "      <td>...</td>\n",
       "      <td>2022-12-01T01:57:42.101Z</td>\n",
       "      <td>12km ESE of Hidden Valley Lake, CA</td>\n",
       "      <td>earthquake</td>\n",
       "      <td>0.66</td>\n",
       "      <td>2.81</td>\n",
       "      <td>0.050</td>\n",
       "      <td>4</td>\n",
       "      <td>automatic</td>\n",
       "      <td>nc</td>\n",
       "      <td>nc</td>\n",
       "    </tr>\n",
       "    <tr>\n",
       "      <th>1</th>\n",
       "      <td>2022-12-01T01:34:20.890Z</td>\n",
       "      <td>35.876667</td>\n",
       "      <td>-120.418663</td>\n",
       "      <td>6.15</td>\n",
       "      <td>1.59</td>\n",
       "      <td>md</td>\n",
       "      <td>26</td>\n",
       "      <td>89.0</td>\n",
       "      <td>0.014750</td>\n",
       "      <td>0.04</td>\n",
       "      <td>...</td>\n",
       "      <td>2022-12-01T01:52:13.525Z</td>\n",
       "      <td>3km SSE of Parkfield, CA</td>\n",
       "      <td>earthquake</td>\n",
       "      <td>0.28</td>\n",
       "      <td>0.37</td>\n",
       "      <td>0.130</td>\n",
       "      <td>13</td>\n",
       "      <td>automatic</td>\n",
       "      <td>nc</td>\n",
       "      <td>nc</td>\n",
       "    </tr>\n",
       "    <tr>\n",
       "      <th>2</th>\n",
       "      <td>2022-12-01T00:57:27.280Z</td>\n",
       "      <td>33.217000</td>\n",
       "      <td>-116.740333</td>\n",
       "      <td>9.86</td>\n",
       "      <td>1.07</td>\n",
       "      <td>ml</td>\n",
       "      <td>39</td>\n",
       "      <td>41.0</td>\n",
       "      <td>0.024430</td>\n",
       "      <td>0.20</td>\n",
       "      <td>...</td>\n",
       "      <td>2022-12-01T01:08:27.120Z</td>\n",
       "      <td>4km SE of Lake Henshaw, CA</td>\n",
       "      <td>earthquake</td>\n",
       "      <td>0.25</td>\n",
       "      <td>0.59</td>\n",
       "      <td>0.128</td>\n",
       "      <td>26</td>\n",
       "      <td>automatic</td>\n",
       "      <td>ci</td>\n",
       "      <td>ci</td>\n",
       "    </tr>\n",
       "    <tr>\n",
       "      <th>3</th>\n",
       "      <td>2022-12-01T00:43:41.100Z</td>\n",
       "      <td>35.873833</td>\n",
       "      <td>-117.700167</td>\n",
       "      <td>7.99</td>\n",
       "      <td>1.14</td>\n",
       "      <td>ml</td>\n",
       "      <td>18</td>\n",
       "      <td>72.0</td>\n",
       "      <td>0.083710</td>\n",
       "      <td>0.10</td>\n",
       "      <td>...</td>\n",
       "      <td>2022-12-01T00:47:07.735Z</td>\n",
       "      <td>20km ESE of Little Lake, CA</td>\n",
       "      <td>earthquake</td>\n",
       "      <td>0.19</td>\n",
       "      <td>0.63</td>\n",
       "      <td>0.262</td>\n",
       "      <td>15</td>\n",
       "      <td>automatic</td>\n",
       "      <td>ci</td>\n",
       "      <td>ci</td>\n",
       "    </tr>\n",
       "    <tr>\n",
       "      <th>4</th>\n",
       "      <td>2022-12-01T00:41:59.450Z</td>\n",
       "      <td>38.784832</td>\n",
       "      <td>-122.733666</td>\n",
       "      <td>1.83</td>\n",
       "      <td>1.17</td>\n",
       "      <td>md</td>\n",
       "      <td>10</td>\n",
       "      <td>84.0</td>\n",
       "      <td>0.002873</td>\n",
       "      <td>0.02</td>\n",
       "      <td>...</td>\n",
       "      <td>2022-12-01T01:17:18.309Z</td>\n",
       "      <td>2km ENE of The Geysers, CA</td>\n",
       "      <td>earthquake</td>\n",
       "      <td>0.33</td>\n",
       "      <td>0.76</td>\n",
       "      <td>0.160</td>\n",
       "      <td>2</td>\n",
       "      <td>automatic</td>\n",
       "      <td>nc</td>\n",
       "      <td>nc</td>\n",
       "    </tr>\n",
       "  </tbody>\n",
       "</table>\n",
       "<p>5 rows × 22 columns</p>\n",
       "</div>"
      ],
      "text/plain": [
       "                       time   latitude   longitude  depth   mag magType  nst  \\\n",
       "0  2022-12-01T01:54:56.710Z  38.754501 -122.441666   4.08  1.60      md    5   \n",
       "1  2022-12-01T01:34:20.890Z  35.876667 -120.418663   6.15  1.59      md   26   \n",
       "2  2022-12-01T00:57:27.280Z  33.217000 -116.740333   9.86  1.07      ml   39   \n",
       "3  2022-12-01T00:43:41.100Z  35.873833 -117.700167   7.99  1.14      ml   18   \n",
       "4  2022-12-01T00:41:59.450Z  38.784832 -122.733666   1.83  1.17      md   10   \n",
       "\n",
       "     gap      dmin   rms  ...                   updated  \\\n",
       "0  162.0       NaN  0.03  ...  2022-12-01T01:57:42.101Z   \n",
       "1   89.0  0.014750  0.04  ...  2022-12-01T01:52:13.525Z   \n",
       "2   41.0  0.024430  0.20  ...  2022-12-01T01:08:27.120Z   \n",
       "3   72.0  0.083710  0.10  ...  2022-12-01T00:47:07.735Z   \n",
       "4   84.0  0.002873  0.02  ...  2022-12-01T01:17:18.309Z   \n",
       "\n",
       "                                place        type horizontalError depthError  \\\n",
       "0  12km ESE of Hidden Valley Lake, CA  earthquake            0.66       2.81   \n",
       "1            3km SSE of Parkfield, CA  earthquake            0.28       0.37   \n",
       "2          4km SE of Lake Henshaw, CA  earthquake            0.25       0.59   \n",
       "3         20km ESE of Little Lake, CA  earthquake            0.19       0.63   \n",
       "4          2km ENE of The Geysers, CA  earthquake            0.33       0.76   \n",
       "\n",
       "   magError  magNst     status  locationSource magSource  \n",
       "0     0.050       4  automatic              nc        nc  \n",
       "1     0.130      13  automatic              nc        nc  \n",
       "2     0.128      26  automatic              ci        ci  \n",
       "3     0.262      15  automatic              ci        ci  \n",
       "4     0.160       2  automatic              nc        nc  \n",
       "\n",
       "[5 rows x 22 columns]"
      ]
     },
     "execution_count": 39,
     "metadata": {},
     "output_type": "execute_result"
    }
   ],
   "source": [
    "df = pd.read_csv('query.csv')\n",
    "df.head()"
   ]
  },
  {
   "cell_type": "code",
   "execution_count": 40,
   "metadata": {},
   "outputs": [
    {
     "data": {
      "text/plain": [
       "{'whiskers': [<matplotlib.lines.Line2D at 0x7fb6ec25c910>,\n",
       "  <matplotlib.lines.Line2D at 0x7fb6ec7626d0>],\n",
       " 'caps': [<matplotlib.lines.Line2D at 0x7fb6ec762e20>,\n",
       "  <matplotlib.lines.Line2D at 0x7fb6ec76b6a0>],\n",
       " 'boxes': [<matplotlib.lines.Line2D at 0x7fb6ec25cd90>],\n",
       " 'medians': [<matplotlib.lines.Line2D at 0x7fb6ec75dc10>],\n",
       " 'fliers': [<matplotlib.lines.Line2D at 0x7fb6ec75d400>],\n",
       " 'means': []}"
      ]
     },
     "execution_count": 40,
     "metadata": {},
     "output_type": "execute_result"
    },
    {
     "data": {
      "image/png": "[encoded data removed]",
      "text/plain": [
       "<Figure size 432x288 with 1 Axes>"
      ]
     },
     "metadata": {
      "needs_background": "light"
     },
     "output_type": "display_data"
    }
   ],
   "source": [
    "plt.boxplot(df['magNst'])"
   ]
  },
  {
   "cell_type": "code",
   "execution_count": 42,
   "metadata": {},
   "outputs": [
    {
     "data": {
      "image/png": "[encoded data removed]",
      "text/plain": [
       "<Figure size 432x288 with 1 Axes>"
      ]
     },
     "metadata": {
      "needs_background": "light"
     },
     "output_type": "display_data"
    }
   ],
   "source": [
    "plt.bar(range(len(df['magNst'])),df['magNst'])\n",
    "plt.show()"
   ]
  },
  {
   "cell_type": "code",
   "execution_count": 36,
   "metadata": {},
   "outputs": [
    {
     "data": {
      "image/png": "[encoded data removed]",
      "text/plain": [
       "<Figure size 432x288 with 1 Axes>"
      ]
     },
     "metadata": {
      "needs_background": "light"
     },
     "output_type": "display_data"
    }
   ],
   "source": [
    "plt.bar(np.arange(len(df['locationSource'])),df['locationSource'])\n",
    "plt.bar(np.arange(len(df['magSource']))+0.2,df['magSource'])\n",
    "plt.show()"
   ]
  },
  {
   "cell_type": "code",
   "execution_count": 53,
   "metadata": {},
   "outputs": [
    {
     "data": {
      "text/plain": [
       "<AxesSubplot:xlabel='mag'>"
      ]
     },
     "execution_count": 53,
     "metadata": {},
     "output_type": "execute_result"
    },
    {
     "data": {
      "image/png": "[encoded data removed]",
      "text/plain": [
       "<Figure size 432x288 with 1 Axes>"
      ]
     },
     "metadata": {
      "needs_background": "light"
     },
     "output_type": "display_data"
    }
   ],
   "source": [
    "df.round(1).groupby('mag').size().plot(kind='bar')"
   ]
  },
  {
   "cell_type": "code",
   "execution_count": 51,
   "metadata": {},
   "outputs": [
    {
     "data": {
      "text/plain": [
       "<AxesSubplot:xlabel='intensity'>"
      ]
     },
     "execution_count": 51,
     "metadata": {},
     "output_type": "execute_result"
    },
    {
     "data": {
      "image/png": "[encoded data removed]",
      "text/plain": [
       "<Figure size 432x288 with 1 Axes>"
      ]
     },
     "metadata": {
      "needs_background": "light"
     },
     "output_type": "display_data"
    }
   ],
   "source": [
    "bins = [0, 2.5, 4.5, 6.5, 100]\n",
    "levels = ['not intense', 'mild', 'intense', 'Catastrophic']\n",
    "df['intensity'] = pd.cut(df['mag'],bins,labels=levels)\n",
    "df.groupby('intensity').size().plot(kind='bar')"
   ]
  }
 ],
 "metadata": {
  "kernelspec": {
   "display_name": "Python 3",
   "language": "python",
   "name": "python3"
  },
  "language_info": {
   "codemirror_mode": {
    "name": "ipython",
    "version": 3
   },
   "file_extension": ".py",
   "mimetype": "text/x-python",
   "name": "python",
   "nbconvert_exporter": "python",
   "pygments_lexer": "ipython3",
   "version": "3.8.5"
  }
 },
 "nbformat": 4,
 "nbformat_minor": 4
}
